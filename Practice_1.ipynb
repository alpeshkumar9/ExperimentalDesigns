{
 "cells": [
  {
   "cell_type": "markdown",
   "metadata": {},
   "source": [
    "# 01 &mdash; Introduction to Python and NumPy &mdash; practice\n"
   ]
  },
  {
   "cell_type": "markdown",
   "metadata": {},
   "source": [
    "**Please enter in the cell below your first name, last name, and student ID**"
   ]
  },
  {
   "cell_type": "markdown",
   "metadata": {},
   "source": [
    "Name: Alpesh Kumar\n",
    "Student ID: 100995076"
   ]
  },
  {
   "cell_type": "markdown",
   "metadata": {},
   "source": [
    "1. Given the list in the code snippet, create a new list that contains only the elements in even positions (for convention, let's say position 0 is odd because it's the 1st one) repeated three times. Finally, print the list and the length of the list"
   ]
  },
  {
   "cell_type": "code",
   "execution_count": 1,
   "metadata": {},
   "outputs": [
    {
     "name": "stdout",
     "output_type": "stream",
     "text": [
      "['', 'Tue', '', 'Thu', '', 'Sat', '']\n",
      "7\n"
     ]
    }
   ],
   "source": [
    "# code for exercise 2\n",
    "days = ['Mon','Tue','Wed','Thu','Fri','Sat','Sun']\n",
    "daysNew = ['','Tue','','Thu','','Sat','']\n",
    "print(daysNew)\n",
    "print(len(daysNew))"
   ]
  },
  {
   "cell_type": "markdown",
   "metadata": {},
   "source": [
    "2. Given the list of numbers in the code, generate a new list of Booleans indicating whether the corresponding numbers are divisible by 4. Implement this in two ways: 1. using lambda functions and `map`; 2. using list comprehension\n",
    "    * e.g. given [0,3,4,7,12] it should produce [True,False,True,False,True]\n"
   ]
  },
  {
   "cell_type": "code",
   "execution_count": 2,
   "metadata": {},
   "outputs": [
    {
     "name": "stdout",
     "output_type": "stream",
     "text": [
      "['False', 'False', 'True', 'False', 'False', 'True', 'False', 'True']\n"
     ]
    }
   ],
   "source": [
    "# code for exercise 4\n",
    "numbers = [3, -1, 4, 9, 7, 12, 14, 28]\n",
    "div_by_4 = map(lambda x: (x%4 == 0) , numbers)\n",
    "print(list(div_by_4))"
   ]
  },
  {
   "cell_type": "markdown",
   "metadata": {},
   "source": [
    "3. Generate a matrix (bi-dimensional list) s.t. its (i,j)-th position indicates whether the i-th element of `list1` is equals to the j-th element of `list2`"
   ]
  },
  {
   "cell_type": "code",
   "execution_count": 4,
   "metadata": {},
   "outputs": [
    {
     "name": "stdout",
     "output_type": "stream",
     "text": [
      "[['True', 'False', 'False', 'False'], ['False', 'False', 'False', 'False'], ['False', 'False', 'True', 'False'], ['True', 'False', 'False', 'False']]\n"
     ]
    }
   ],
   "source": [
    "# code for exercise 5\n",
    "list1=[-9.2, 3.01, 4.7, -33.906]\n",
    "list2=[-9.2, -3.01, 4.7, -9.2]\n",
    "I = [ [(\"True\" if list1[i]==list2[j] else \"False\") for i in range(len(list1))] for j in range(len(list2))]\n",
    "print(I)"
   ]
  },
  {
   "cell_type": "markdown",
   "metadata": {},
   "source": [
    "4. Given the numpy array in the code snippet, select the first 100 elements. Of this selection, compute the mean of the elements that are greater than 40 "
   ]
  },
  {
   "cell_type": "code",
   "execution_count": 2,
   "metadata": {},
   "outputs": [
    {
     "name": "stdout",
     "output_type": "stream",
     "text": [
      "520.0\n"
     ]
    }
   ],
   "source": [
    "# code for exercise 1\n",
    "import numpy as np\n",
    "a = np.arange(0,1000,5)\n",
    "agt40 = a > 40\n",
    "print(np.mean(a[agt40]))"
   ]
  },
  {
   "cell_type": "markdown",
   "metadata": {},
   "source": [
    "5. Generate and print a random 4x7 numpy matrix `rand_m`. Construct and print the corresponding Boolean matrix indicating if the elements of `rand_m` are above 0.5"
   ]
  },
  {
   "cell_type": "code",
   "execution_count": 3,
   "metadata": {},
   "outputs": [
    {
     "name": "stdout",
     "output_type": "stream",
     "text": [
      "[[False  True  True  True False False False]\n",
      " [ True  True  True False  True  True False]\n",
      " [False False False  True False False  True]\n",
      " [False False False False  True False  True]]\n"
     ]
    }
   ],
   "source": [
    "# fix random seed so that results are reproducible (do not change)\n",
    "np.random.seed(42)\n",
    "# code for exercise 2\n",
    "rand_m = np.random.random((4,7))\n",
    "rand_m_bool = rand_m > 0.5\n",
    "print(rand_m_bool)\n"
   ]
  },
  {
   "cell_type": "code",
   "execution_count": null,
   "metadata": {},
   "outputs": [],
   "source": []
  }
 ],
 "metadata": {
  "kernelspec": {
   "display_name": "Python 3",
   "language": "python",
   "name": "python3"
  },
  "language_info": {
   "codemirror_mode": {
    "name": "ipython",
    "version": 3
   },
   "file_extension": ".py",
   "mimetype": "text/x-python",
   "name": "python",
   "nbconvert_exporter": "python",
   "pygments_lexer": "ipython3",
   "version": "3.8.8"
  }
 },
 "nbformat": 4,
 "nbformat_minor": 2
}
