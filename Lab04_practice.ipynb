{
 "cells": [
  {
   "cell_type": "markdown",
   "metadata": {},
   "source": [
    "# Lab 04 &mdash; Parametric inference, part 2 &mdash; practice\n"
   ]
  },
  {
   "cell_type": "markdown",
   "metadata": {},
   "source": [
    "**Please enter in the cell below your first name, last name, and student ID**"
   ]
  },
  {
   "cell_type": "markdown",
   "metadata": {},
   "source": [
    "* <b>Name: Alpesh Kumar\n",
    "* Student ID: 100995076<b>"
   ]
  },
  {
   "cell_type": "code",
   "execution_count": 2,
   "metadata": {},
   "outputs": [],
   "source": [
    "# imports\n",
    "import numpy as np\n",
    "import pandas as pd\n",
    "from scipy import stats\n",
    "import statsmodels.api as sm\n",
    "import matplotlib.pyplot as plt\n",
    "%matplotlib inline\n",
    "\n",
    "# fix random seed so that results are reproducible (do not change)\n",
    "np.random.seed(42)"
   ]
  },
  {
   "cell_type": "markdown",
   "metadata": {},
   "source": [
    "1. From the CDC' BRFSS dataset (`cdc.csv`), draw two random samples, of 30 female participants and 40 male participants, respectively. Using these samples, establish, using an appropriate two-sided test at level $\\alpha=0.01$, if the true mean _height_ $\\mu_F$ of a female participant is significantly different from that of a male participant $\\mu_M$, and derive a $1-\\alpha$ confidence interval estimate for $\\mu_F-\\mu_M$"
   ]
  },
  {
   "cell_type": "code",
   "execution_count": 4,
   "metadata": {},
   "outputs": [
    {
     "name": "stdout",
     "output_type": "stream",
     "text": [
      "Value of T statistic -9.479817795913904\n",
      "P-value 7.400052729496241e-14\n",
      "Degrees of freedom 64.75548662841457\n"
     ]
    }
   ],
   "source": [
    "# code for exercise 1\n",
    "cdc = pd.read_csv(\"cdc.csv\")\n",
    "\n",
    "\n",
    "# 30 female participants\n",
    "n_females = 30;\n",
    "female_30 = cdc[cdc.gender == 'f'].sample(n_females)\n",
    "\n",
    "# 40 male participants\n",
    "n_males = 40;\n",
    "male_40 = cdc[cdc.gender == 'm'].sample(n_males)\n",
    "\n",
    "# create the two DescrStatsW instances\n",
    "female_30_stats = sm.stats.DescrStatsW(female_30.height)\n",
    "male_40_stats = sm.stats.DescrStatsW(male_40.height)\n",
    "\n",
    "# create a CompareMeans instance with the two samples above\n",
    "comp_means_instance = sm.stats.CompareMeans(female_30_stats,male_40_stats)\n",
    "\n",
    "# it returns the t statistic, p-value and df (recall, df for Welch test is not trivial)\n",
    "tstat, pval, df  = comp_means_instance.ttest_ind(usevar='unequal')\n",
    "print('Value of T statistic ' + str(tstat))\n",
    "print('P-value ' + str(pval))\n",
    "print('Degrees of freedom ' + str(df))"
   ]
  },
  {
   "cell_type": "markdown",
   "metadata": {},
   "source": [
    "The same <b>CompareMeans</b> instance can be used to derive a confidence interval for the difference of the two means with the function <b>tconfint_diff</b>"
   ]
  },
  {
   "cell_type": "code",
   "execution_count": 5,
   "metadata": {},
   "outputs": [
    {
     "data": {
      "text/plain": [
       "(-8.67168371043757, -4.878316289562413)"
      ]
     },
     "execution_count": 5,
     "metadata": {},
     "output_type": "execute_result"
    }
   ],
   "source": [
    "alpha = 0.01\n",
    "comp_means_instance.tconfint_diff(alpha=alpha,usevar='unequal')"
   ]
  },
  {
   "cell_type": "markdown",
   "metadata": {},
   "source": [
    "2. Derive a 97%-confidence interval estimate (using the T distribution) for the mean weight using a random sample of 30 individuals from the CDC' BRFSS dataset (`cdc.csv`)"
   ]
  },
  {
   "cell_type": "code",
   "execution_count": 6,
   "metadata": {},
   "outputs": [
    {
     "data": {
      "text/plain": [
       "(160.76589033732117, 191.1007763293455)"
      ]
     },
     "execution_count": 6,
     "metadata": {},
     "output_type": "execute_result"
    }
   ],
   "source": [
    "# code for exercise 2\n",
    "\n",
    "n = 30\n",
    "# draw a random sample of size 30\n",
    "cdc_30_sample = cdc.sample(n)\n",
    "weight_stats = sm.stats.DescrStatsW(cdc_30_sample.weight)\n",
    "weight_stats.tconfint_mean(alpha=0.03)"
   ]
  },
  {
   "cell_type": "markdown",
   "metadata": {},
   "source": [
    "3. Draw a plot showing how many observations are required (y-axis), for different effect size values (x-axis), to obtain a power of 95% in a one-sided, left-tailed, one-sample t-test at level 0.01\n",
    "    * Use a sequence of effect sizes between -2 and -0.5"
   ]
  },
  {
   "cell_type": "code",
   "execution_count": 8,
   "metadata": {},
   "outputs": [
    {
     "data": {
      "image/png": "[encoded data removed]",
      "text/plain": [
       "<Figure size 432x288 with 1 Axes>"
      ]
     },
     "metadata": {
      "needs_background": "light"
     },
     "output_type": "display_data"
    }
   ],
   "source": [
    "# code for exercise 3\n",
    "\n",
    "power = 0.95\n",
    "alpha=0.01\n",
    "\n",
    "x = np.arange(-2, -0.5, 0.1)\n",
    "\n",
    "# we need to vectorize our function so that it works for arrays\n",
    "y = np.vectorize(sm.stats.tt_solve_power)\n",
    "\n",
    "# plot on the x-axis the assumed true values, on the y-axis the corresponding power\n",
    "plt.plot(x, y(effect_size=x, power=power, alpha=alpha, alternative='smaller'))\n",
    "plt.show()\n"
   ]
  },
  {
   "cell_type": "code",
   "execution_count": null,
   "metadata": {},
   "outputs": [],
   "source": []
  }
 ],
 "metadata": {
  "kernelspec": {
   "display_name": "Python 3",
   "language": "python",
   "name": "python3"
  },
  "language_info": {
   "codemirror_mode": {
    "name": "ipython",
    "version": 3
   },
   "file_extension": ".py",
   "mimetype": "text/x-python",
   "name": "python",
   "nbconvert_exporter": "python",
   "pygments_lexer": "ipython3",
   "version": "3.8.2"
  }
 },
 "nbformat": 4,
 "nbformat_minor": 2
}
