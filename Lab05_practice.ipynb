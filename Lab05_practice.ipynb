{
 "cells": [
  {
   "cell_type": "markdown",
   "metadata": {},
   "source": [
    "# Lab 06 &mdash; $\\chi^2$-test and non-parametric methods &mdash; practice\n"
   ]
  },
  {
   "cell_type": "markdown",
   "metadata": {},
   "source": [
    "**Please enter in the cell below your first name, last name, and student ID**"
   ]
  },
  {
   "cell_type": "markdown",
   "metadata": {},
   "source": [
    "* <b>Name: Alpesh Kumar\n",
    "* Student ID: 100995076<b>"
   ]
  },
  {
   "cell_type": "code",
   "execution_count": 2,
   "metadata": {},
   "outputs": [],
   "source": [
    "# imports\n",
    "import numpy as np\n",
    "import pandas as pd\n",
    "from scipy import stats\n",
    "import statsmodels.api as sm\n",
    "import matplotlib.pyplot as plt\n",
    "%matplotlib inline"
   ]
  },
  {
   "cell_type": "markdown",
   "metadata": {},
   "source": [
    "1. Consider the A/B testing data for the cookie cat game. Establish with a two-sided U test at level $0.05$ if there is a significant difference in the number of played game rounds (column `sum_gamerounds`) between the two versions of the game. To do so, draw a sample of 200 observations for each version of the game"
   ]
  },
  {
   "cell_type": "code",
   "execution_count": 3,
   "metadata": {},
   "outputs": [
    {
     "name": "stdout",
     "output_type": "stream",
     "text": [
      "p-value (two versions of the game): 0.6898782731003986\n"
     ]
    }
   ],
   "source": [
    "# code for exercise 1\n",
    "# fix random seed so that results are reproducible (do not change)\n",
    "np.random.seed(42)\n",
    "\n",
    "df_cookie = pd.read_csv(\"cookie_cats.csv\")\n",
    "df_cookie.head()\n",
    "\n",
    "n = 200\n",
    "cookie_1_contable = pd.crosstab(index=df_cookie.version, columns=df_cookie.sum_gamerounds)\n",
    "\n",
    "gate30 = df_cookie.version == 'gate_30'\n",
    "gate30_sample = gate30.sample(n)\n",
    "gate40 = df_cookie.version == 'gate_40'\n",
    "gate40_sample = gate40.sample(n)\n",
    "\n",
    "U_stat, p_val = stats.mannwhitneyu(gate30_sample,gate40_sample,alternative='two-sided')\n",
    "print(\"p-value (two versions of the game): \"+str(p_val))"
   ]
  },
  {
   "cell_type": "markdown",
   "metadata": {},
   "source": [
    "<b>* We see that the p-value is much higher with the given level of 0.05, which would suggest absence of a difference between the two versions of the game\n",
    "* The reason is that by taking independent observations, we introduce a lot of inter-subject variability\n",
    "    * the variability of versions is very high, which makes it difficult to assess presence of an actual difference</b>"
   ]
  },
  {
   "cell_type": "markdown",
   "metadata": {},
   "source": [
    "2. Using the *CDC's Behavioral Risk Factor Surveillance System (BRFSS) survey* dataset, establish whether there is a significant association between gender and smoking, using a $\\chi^2$ test at level $0.05$ and a sample of 500 participants. Print to screen also the value of the test statistic and the p-value"
   ]
  },
  {
   "cell_type": "code",
   "execution_count": 15,
   "metadata": {},
   "outputs": [
    {
     "name": "stdout",
     "output_type": "stream",
     "text": [
      "the value of the test statistic is 7.045877981245304. p value is: 0.007944787145235391\n",
      "Degrees of freedom: 1\n"
     ]
    }
   ],
   "source": [
    "# code for exercise 2\n",
    "# fix random seed so that results are reproducible (do not change)\n",
    "np.random.seed(42)\n",
    "\n",
    "df_cdc = pd.read_csv(\"cdc.csv\")\n",
    "n = 500\n",
    "cdc_sample = df_cdc.sample(n)\n",
    "cdc_contable = pd.crosstab(index=cdc_sample.gender, columns=cdc_sample.smoke100)\n",
    "chi2, p_val, dof, exp_counts = stats.chi2_contingency(cdc_contable, correction=False)\n",
    "print(\"the value of the test statistic is \"+str(chi2)+\". p value is: \"+str(p_val))\n",
    "print(\"Degrees of freedom: \"+str(dof))"
   ]
  },
  {
   "cell_type": "markdown",
   "metadata": {},
   "source": [
    "<b>We see that the p-value is much smaller than the given level of 0.05, which would suggest absence of significant association between gender and smoking</b>"
   ]
  },
  {
   "cell_type": "markdown",
   "metadata": {},
   "source": [
    "3. By adapting the code of the `sign_test` function (see lab notebook), define a function that performs hypothesis testing about any percentile (not just the median). Evaluate your function on a random sample of 100 observations from the `sum_gamerounds` variable of the cookie cat game. Compute the p-value for a two-sided test that the true 37% percentile is equal to 37.\n",
    "    * the function should take in input three arguments: `sample`, `null_value`, and `q`, where `q` is the desired percentile (between 0 and 100)\n",
    "    * so, the null hypothesis is that the true `q`-th percentile is `null_value`\n",
    "    * _tip_: you'll just need to modify the distribution under the null"
   ]
  },
  {
   "cell_type": "code",
   "execution_count": 14,
   "metadata": {},
   "outputs": [
    {
     "name": "stdout",
     "output_type": "stream",
     "text": [
      "Test statistic value (num of positive differences with random tie correction): [33]\n",
      "p-value: 2.2959909398516337e-09\n"
     ]
    }
   ],
   "source": [
    "# code for exercise 3\n",
    "# fix random seed so that results are reproducible (do not change)\n",
    "np.random.seed(42)\n",
    "\n",
    "#print(cookie_1_contable)\n",
    "def sign_test(sample, q, m0=37):\n",
    "    n = sample.size\n",
    "    h0_distr = stats.binom(n=n, p = 1-q/100)\n",
    "    num_wins = np.sum(sample>m0)\n",
    "    num_ties = np.sum(sample==m0)\n",
    "    stat_val = num_wins + stats.binom(n = num_ties, p = 0.5).rvs(1)\n",
    "    left_tail_p = h0_distr.cdf(stat_val)\n",
    "    right_tail_p = 1 - h0_distr.cdf(stat_val-1)\n",
    "    p_val=2*np.min([left_tail_p,right_tail_p])\n",
    "    return stat_val, p_val\n",
    "\n",
    "n = 100\n",
    "cookie_sgsample = df_cookie.sum_gamerounds.sample(n)\n",
    "\n",
    "q = 37\n",
    "stat_val, p_val = sign_test(cookie_sgsample, q)\n",
    "print(\"Test statistic value (num of positive differences with random tie correction): \"+ str(stat_val))\n",
    "print(\"p-value: \"+str(p_val))"
   ]
  },
  {
   "cell_type": "markdown",
   "metadata": {},
   "source": [
    "4. Perform the same test of question 3. using bootstrap sampling. I.e., draw a random sample of 50 observations from the `sum_gamerounds` variable. By resampling this sample, generate a bootstrap distribution for the 37-th percentile. Use $B=2000$ bootstrap samples. Finally, apply the shifting method to derive the null distribution and compute the p-value.\n",
    "    * _tip_: percentiles can be computed using the `np.percentile` function, see lab notebook and https://numpy.org/doc/stable/reference/generated/numpy.percentile.html"
   ]
  },
  {
   "cell_type": "code",
   "execution_count": 16,
   "metadata": {},
   "outputs": [
    {
     "name": "stdout",
     "output_type": "stream",
     "text": [
      "Estimate of statistic on \"sample\" is: [43]\n"
     ]
    }
   ],
   "source": [
    "# code for exercise 4\n",
    "# fix random seed so that results are reproducible (do not change)\n",
    "np.random.seed(42)\n",
    "\n",
    "sample_size = 50\n",
    "sample = df_cookie.sum_gamerounds.sample(sample_size)\n",
    "q=np.percentile(sample,37)\n",
    "pop_distr = stats.uniform(sample)\n",
    "\n",
    "# our statistic is the IQR\n",
    "# let's define a function handle for that\n",
    "my_stat = lambda sample : stats.binom(n=sample_size, p=1-q/100).rvs(1)\n",
    "\n",
    "# this is our sample estimate of the statistic\n",
    "theta_hat_est = my_stat(sample)\n",
    "print('Estimate of statistic on \"sample\" is: '+str(theta_hat_est))"
   ]
  },
  {
   "cell_type": "code",
   "execution_count": 19,
   "metadata": {},
   "outputs": [
    {
     "data": {
      "image/png": "[encoded data removed]",
      "text/plain": [
       "<Figure size 432x288 with 1 Axes>"
      ]
     },
     "metadata": {
      "needs_background": "light"
     },
     "output_type": "display_data"
    }
   ],
   "source": [
    "import seaborn as sns\n",
    "# let's draw 2000 samples\n",
    "sample_num = 2000\n",
    "# initialize a numpy array of size (sample_num, 1) to store the sample statistics\n",
    "theta_hats = np.empty([sample_num, 1])\n",
    "\n",
    "# draw the samples by calling the rvs function\n",
    "for i in range(sample_num):\n",
    "    # apply our statistic function to a random sample drawn from the pop distr\n",
    "    theta_hats[i] = my_stat(sample)\n",
    "\n",
    "# rng is numpy's random number generator\n",
    "rng = np.random.default_rng()\n",
    "resample = lambda sample, n : rng.choice(a=sample,size=n)\n",
    "\n",
    "# draw bootstrap samples, and store corresponding statistic values\n",
    "theta_tildes = np.empty([sample_num, 1])\n",
    "\n",
    "for i in range(sample_num):\n",
    "    # apply our statistic function to a bootstrap resample drawn from the given sample\n",
    "    theta_tildes[i] = my_stat(resample(sample=sample, n=sample_size))\n",
    "    \n",
    "# plot the bootstrap sampling distribution\n",
    "sns.histplot(theta_tildes, stat='probability')\n",
    "plt.title('Bootstrap sampling distribution of $\\\\tilde{\\\\theta}$')\n",
    "plt.show()"
   ]
  },
  {
   "cell_type": "code",
   "execution_count": 20,
   "metadata": {},
   "outputs": [
    {
     "name": "stdout",
     "output_type": "stream",
     "text": [
      "bootstrap two-sided p-value is: 0.46976511744127936\n"
     ]
    }
   ],
   "source": [
    "# null value\n",
    "theta_0 = 43\n",
    "# let's simulate the null distribution by shifting our bootstrap sampling distribution\n",
    "bootstrap_null = theta_tildes + (theta_0-theta_hat_est)\n",
    "\n",
    "# compute a two-sided p-value\n",
    "# we derive the p-values for each side first (with the +1 correction)\n",
    "left_pval = (np.sum(bootstrap_null<=theta_hat_est)+1)/(bootstrap_null.size + 1)\n",
    "right_pval = (np.sum(bootstrap_null>=theta_hat_est)+1)/(bootstrap_null.size + 1)\n",
    "\n",
    "bootstrap_pval = 2*np.min([left_pval,right_pval])\n",
    "print(\"bootstrap two-sided p-value is: \"+str(bootstrap_pval))"
   ]
  },
  {
   "cell_type": "code",
   "execution_count": null,
   "metadata": {},
   "outputs": [],
   "source": []
  }
 ],
 "metadata": {
  "kernelspec": {
   "display_name": "Python 3",
   "language": "python",
   "name": "python3"
  },
  "language_info": {
   "codemirror_mode": {
    "name": "ipython",
    "version": 3
   },
   "file_extension": ".py",
   "mimetype": "text/x-python",
   "name": "python",
   "nbconvert_exporter": "python",
   "pygments_lexer": "ipython3",
   "version": "3.8.2"
  }
 },
 "nbformat": 4,
 "nbformat_minor": 4
}
