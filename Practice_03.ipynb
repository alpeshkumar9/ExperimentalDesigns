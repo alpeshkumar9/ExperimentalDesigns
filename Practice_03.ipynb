{
 "cells": [
  {
   "cell_type": "markdown",
   "metadata": {},
   "source": [
    "# 03 &mdash; Parametric Inference, part 1 &mdash; practice\n"
   ]
  },
  {
   "cell_type": "markdown",
   "metadata": {},
   "source": [
    "1. From the CDC' BRFSS dataset (`cdc.csv`), plot the histogram of the empirical sampling distribution of the sample _maximum_ for variable age, using 2000 random subsamples of the dataset, each of size 50"
   ]
  },
  {
   "cell_type": "code",
   "execution_count": 24,
   "metadata": {},
   "outputs": [
    {
     "name": "stdout",
     "output_type": "stream",
     "text": [
      "[88. 80. 86. ... 83. 83. 79.]\n"
     ]
    },
    {
     "data": {
      "image/png": "[encoded data removed]",
      "text/plain": [
       "<Figure size 432x288 with 1 Axes>"
      ]
     },
     "metadata": {
      "needs_background": "light"
     },
     "output_type": "display_data"
    }
   ],
   "source": [
    "# code for exercise 1\n",
    "import numpy as np\n",
    "from scipy import stats\n",
    "import matplotlib.pyplot as plt\n",
    "import seaborn as sns\n",
    "import pandas as pd\n",
    "%matplotlib inline\n",
    "\n",
    "# fix random seed so that results are reproducible (do not change)\n",
    "np.random.seed(42)\n",
    "\n",
    "df = pd.read_csv(\"cdc.csv\")\n",
    "# let's now draw 1000 uniform samples, each of size 50\n",
    "sample_num = 2000\n",
    "sample_size = 50\n",
    "\n",
    "# initialize a numpy array of size (sample_num, sample_size) to store the samples\n",
    "cdc_samples = np.empty([sample_num, sample_size])\n",
    "\n",
    "# draw the samples by calling the rvs function\n",
    "for i in range(sample_num):\n",
    "    cdc_samples[i:] = df.age.sample(sample_size)\n",
    "\n",
    "# now compute the sample means for our samples\n",
    "max_samples = np.max(cdc_samples, axis=1) # row-wise\n",
    "print(max_samples)\n",
    "\n",
    "sns.distplot(max_samples, kde=False, norm_hist=True)\n",
    "plt.show()"
   ]
  },
  {
   "cell_type": "markdown",
   "metadata": {},
   "source": [
    "2. From the CDC' BRFSS dataset (`cdc.csv`), compute a 99%-confidence interval for the mean height of a sample of size 50, using the z distribution. Then, establish, with a one-sided z-test at level 0.5%, whether or not the mean height is significantly greater than 68. \n",
    "    * Given that you computed the CI, could you have derived the result of the test from the CI without performing the test explicitly? motivate why"
   ]
  },
  {
   "cell_type": "code",
   "execution_count": 33,
   "metadata": {},
   "outputs": [
    {
     "name": "stdout",
     "output_type": "stream",
     "text": [
      "CI: (66.51041892460313, 69.40958107539686)\n",
      "p value: 0.5283321197337933\n"
     ]
    }
   ],
   "source": [
    "# code for exercise 2\n",
    "# fix random seed so that results are reproducible (do not change)\n",
    "import statsmodels.api as sm\n",
    "\n",
    "np.random.seed(42)\n",
    "\n",
    "n = 50 #sample of size 50\n",
    "alpha = 0.01\n",
    "# draw a random sample of size 50\n",
    "cdc_height_samples = df.height.sample(n)\n",
    "print('CI: '+str(sm.stats.zconfint(cdc_height_samples, alpha=alpha)))\n",
    "\n",
    "t_value, p_value = sm.stats.ztest(cdc_height_samples, value=68,alternative='larger')\n",
    "print('p value: '+str(p_value))"
   ]
  },
  {
   "cell_type": "markdown",
   "metadata": {},
   "source": [
    "The ones-ded z-test is at level 0.5% and p-value is far away from it so the NULL hypothesis can not be rejected."
   ]
  },
  {
   "cell_type": "markdown",
   "metadata": {},
   "source": [
    "3. Draw a random sample of 100 observation from the London murder dataset. Establish, with an exact binomial test at level 0.01, whether the observed proportion of homicides happening in `'Lambeth'` is significantly above 5%. Print the p-value and the result of the test."
   ]
  },
  {
   "cell_type": "code",
   "execution_count": 15,
   "metadata": {},
   "outputs": [
    {
     "name": "stdout",
     "output_type": "stream",
     "text": [
      "Proportion of homicides happening in Lambeth is 0.11\n",
      "p value of binomial test is: 0.011472410067484664\n"
     ]
    }
   ],
   "source": [
    "# code for exercise 3\n",
    "# fix random seed so that results are reproducible (do not change)\n",
    "np.random.seed(42)\n",
    "n = 100\n",
    "# read the london_murders.csv file\n",
    "df_murders = pd.read_csv(\"london_murders.csv\")\n",
    "\n",
    "# draw a random sample of size 100\n",
    "df_murders_sample = df_murders.sample(100)\n",
    "prop_lambeth = np.mean(df_murders_sample.borough == 'Lambeth')\n",
    "print('Proportion of homicides happening in Lambeth is '+str(prop_lambeth))\n",
    "\n",
    "# binom_test of scipy.stats takes in input the test statistic (number of successes), number of trials, and p_0\n",
    "# alternative param is one of two-sided’, ‘greater’, ‘less’\n",
    "p_val_bin = stats.binom_test(x=n*prop_lambeth, n=n, p=0.05, alternative='greater')\n",
    "\n",
    "print('p value of binomial test is: '+str(p_val_bin))"
   ]
  },
  {
   "cell_type": "markdown",
   "metadata": {},
   "source": [
    "The p-value 0.011472410067484664 is greater than 0.01 so you can not reject the NULL hypothesis."
   ]
  }
 ],
 "metadata": {
  "kernelspec": {
   "display_name": "Python 3",
   "language": "python",
   "name": "python3"
  },
  "language_info": {
   "codemirror_mode": {
    "name": "ipython",
    "version": 3
   },
   "file_extension": ".py",
   "mimetype": "text/x-python",
   "name": "python",
   "nbconvert_exporter": "python",
   "pygments_lexer": "ipython3",
   "version": "3.8.2"
  }
 },
 "nbformat": 4,
 "nbformat_minor": 2
}
